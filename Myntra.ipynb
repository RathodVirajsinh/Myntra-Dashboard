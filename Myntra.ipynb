{
 "cells": [
  {
   "cell_type": "code",
   "execution_count": 1,
   "id": "cd10e0fe-ca54-4fc2-b409-b0c589d6e974",
   "metadata": {},
   "outputs": [],
   "source": [
    "import pandas as pd\n",
    "import matplotlib.pyplot as plt\n",
    "import seaborn as sns"
   ]
  },
  {
   "cell_type": "code",
   "execution_count": 2,
   "id": "530334be-e2ba-43e6-ad29-d7a106c051e9",
   "metadata": {},
   "outputs": [
    {
     "data": {
      "text/html": [
       "<div>\n",
       "<style scoped>\n",
       "    .dataframe tbody tr th:only-of-type {\n",
       "        vertical-align: middle;\n",
       "    }\n",
       "\n",
       "    .dataframe tbody tr th {\n",
       "        vertical-align: top;\n",
       "    }\n",
       "\n",
       "    .dataframe thead th {\n",
       "        text-align: right;\n",
       "    }\n",
       "</style>\n",
       "<table border=\"1\" class=\"dataframe\">\n",
       "  <thead>\n",
       "    <tr style=\"text-align: right;\">\n",
       "      <th></th>\n",
       "      <th>ProductID</th>\n",
       "      <th>ProductName</th>\n",
       "      <th>ProductBrand</th>\n",
       "      <th>Gender</th>\n",
       "      <th>Price (INR)</th>\n",
       "      <th>NumImages</th>\n",
       "      <th>Description</th>\n",
       "      <th>PrimaryColor</th>\n",
       "    </tr>\n",
       "  </thead>\n",
       "  <tbody>\n",
       "    <tr>\n",
       "      <th>0</th>\n",
       "      <td>10017413</td>\n",
       "      <td>DKNY Unisex Black &amp; Grey Printed Medium Trolle...</td>\n",
       "      <td>DKNY</td>\n",
       "      <td>Unisex</td>\n",
       "      <td>11745</td>\n",
       "      <td>7</td>\n",
       "      <td>Black and grey printed medium trolley bag, sec...</td>\n",
       "      <td>Black</td>\n",
       "    </tr>\n",
       "    <tr>\n",
       "      <th>1</th>\n",
       "      <td>10016283</td>\n",
       "      <td>EthnoVogue Women Beige &amp; Grey Made to Measure ...</td>\n",
       "      <td>EthnoVogue</td>\n",
       "      <td>Women</td>\n",
       "      <td>5810</td>\n",
       "      <td>7</td>\n",
       "      <td>Beige &amp; Grey made to measure kurta with churid...</td>\n",
       "      <td>Beige</td>\n",
       "    </tr>\n",
       "    <tr>\n",
       "      <th>2</th>\n",
       "      <td>10009781</td>\n",
       "      <td>SPYKAR Women Pink Alexa Super Skinny Fit High-...</td>\n",
       "      <td>SPYKAR</td>\n",
       "      <td>Women</td>\n",
       "      <td>899</td>\n",
       "      <td>7</td>\n",
       "      <td>Pink coloured wash 5-pocket high-rise cropped ...</td>\n",
       "      <td>Pink</td>\n",
       "    </tr>\n",
       "    <tr>\n",
       "      <th>3</th>\n",
       "      <td>10015921</td>\n",
       "      <td>Raymond Men Blue Self-Design Single-Breasted B...</td>\n",
       "      <td>Raymond</td>\n",
       "      <td>Men</td>\n",
       "      <td>5599</td>\n",
       "      <td>5</td>\n",
       "      <td>Blue self-design bandhgala suitBlue self-desig...</td>\n",
       "      <td>Blue</td>\n",
       "    </tr>\n",
       "    <tr>\n",
       "      <th>4</th>\n",
       "      <td>10017833</td>\n",
       "      <td>Parx Men Brown &amp; Off-White Slim Fit Printed Ca...</td>\n",
       "      <td>Parx</td>\n",
       "      <td>Men</td>\n",
       "      <td>759</td>\n",
       "      <td>5</td>\n",
       "      <td>Brown and off-white printed casual shirt, has ...</td>\n",
       "      <td>White</td>\n",
       "    </tr>\n",
       "    <tr>\n",
       "      <th>...</th>\n",
       "      <td>...</td>\n",
       "      <td>...</td>\n",
       "      <td>...</td>\n",
       "      <td>...</td>\n",
       "      <td>...</td>\n",
       "      <td>...</td>\n",
       "      <td>...</td>\n",
       "      <td>...</td>\n",
       "    </tr>\n",
       "    <tr>\n",
       "      <th>12486</th>\n",
       "      <td>10262843</td>\n",
       "      <td>Pepe Jeans Men Black Hammock Slim Fit Low-Rise...</td>\n",
       "      <td>Pepe Jeans</td>\n",
       "      <td>Men</td>\n",
       "      <td>1299</td>\n",
       "      <td>7</td>\n",
       "      <td>Black dark wash 5-pocket low-rise jeans, clean...</td>\n",
       "      <td>Black</td>\n",
       "    </tr>\n",
       "    <tr>\n",
       "      <th>12487</th>\n",
       "      <td>10261721</td>\n",
       "      <td>Mochi Women Gold-Toned Solid Heels</td>\n",
       "      <td>Mochi</td>\n",
       "      <td>Women</td>\n",
       "      <td>1990</td>\n",
       "      <td>5</td>\n",
       "      <td>A pair of gold-toned open toe heels, has regul...</td>\n",
       "      <td>Gold</td>\n",
       "    </tr>\n",
       "    <tr>\n",
       "      <th>12488</th>\n",
       "      <td>10261607</td>\n",
       "      <td>612 league Girls Navy Blue &amp; White Printed Reg...</td>\n",
       "      <td>612 league</td>\n",
       "      <td>Girls</td>\n",
       "      <td>602</td>\n",
       "      <td>4</td>\n",
       "      <td>Navy Blue and White printed mid-rise denim sho...</td>\n",
       "      <td>Blue</td>\n",
       "    </tr>\n",
       "    <tr>\n",
       "      <th>12489</th>\n",
       "      <td>10266621</td>\n",
       "      <td>Bvlgari Men Aqva Pour Homme Marine Eau de Toil...</td>\n",
       "      <td>Bvlgari</td>\n",
       "      <td>Men</td>\n",
       "      <td>8950</td>\n",
       "      <td>2</td>\n",
       "      <td>Bvlgari Men Aqva Pour Homme Marine Eau de Toil...</td>\n",
       "      <td>NaN</td>\n",
       "    </tr>\n",
       "    <tr>\n",
       "      <th>12490</th>\n",
       "      <td>10265199</td>\n",
       "      <td>Pepe Jeans Men Black &amp; Grey Striped Polo Colla...</td>\n",
       "      <td>Pepe Jeans</td>\n",
       "      <td>Men</td>\n",
       "      <td>799</td>\n",
       "      <td>5</td>\n",
       "      <td>Black and grey striped T-shirt, has a polo col...</td>\n",
       "      <td>Black</td>\n",
       "    </tr>\n",
       "  </tbody>\n",
       "</table>\n",
       "<p>12491 rows × 8 columns</p>\n",
       "</div>"
      ],
      "text/plain": [
       "       ProductID                                        ProductName  \\\n",
       "0       10017413  DKNY Unisex Black & Grey Printed Medium Trolle...   \n",
       "1       10016283  EthnoVogue Women Beige & Grey Made to Measure ...   \n",
       "2       10009781  SPYKAR Women Pink Alexa Super Skinny Fit High-...   \n",
       "3       10015921  Raymond Men Blue Self-Design Single-Breasted B...   \n",
       "4       10017833  Parx Men Brown & Off-White Slim Fit Printed Ca...   \n",
       "...          ...                                                ...   \n",
       "12486   10262843  Pepe Jeans Men Black Hammock Slim Fit Low-Rise...   \n",
       "12487   10261721                 Mochi Women Gold-Toned Solid Heels   \n",
       "12488   10261607  612 league Girls Navy Blue & White Printed Reg...   \n",
       "12489   10266621  Bvlgari Men Aqva Pour Homme Marine Eau de Toil...   \n",
       "12490   10265199  Pepe Jeans Men Black & Grey Striped Polo Colla...   \n",
       "\n",
       "      ProductBrand  Gender  Price (INR)  NumImages  \\\n",
       "0             DKNY  Unisex        11745          7   \n",
       "1       EthnoVogue   Women         5810          7   \n",
       "2           SPYKAR   Women          899          7   \n",
       "3          Raymond     Men         5599          5   \n",
       "4             Parx     Men          759          5   \n",
       "...            ...     ...          ...        ...   \n",
       "12486   Pepe Jeans     Men         1299          7   \n",
       "12487        Mochi   Women         1990          5   \n",
       "12488   612 league   Girls          602          4   \n",
       "12489      Bvlgari     Men         8950          2   \n",
       "12490   Pepe Jeans     Men          799          5   \n",
       "\n",
       "                                             Description PrimaryColor  \n",
       "0      Black and grey printed medium trolley bag, sec...        Black  \n",
       "1      Beige & Grey made to measure kurta with churid...        Beige  \n",
       "2      Pink coloured wash 5-pocket high-rise cropped ...         Pink  \n",
       "3      Blue self-design bandhgala suitBlue self-desig...         Blue  \n",
       "4      Brown and off-white printed casual shirt, has ...        White  \n",
       "...                                                  ...          ...  \n",
       "12486  Black dark wash 5-pocket low-rise jeans, clean...        Black  \n",
       "12487  A pair of gold-toned open toe heels, has regul...         Gold  \n",
       "12488  Navy Blue and White printed mid-rise denim sho...         Blue  \n",
       "12489  Bvlgari Men Aqva Pour Homme Marine Eau de Toil...          NaN  \n",
       "12490  Black and grey striped T-shirt, has a polo col...        Black  \n",
       "\n",
       "[12491 rows x 8 columns]"
      ]
     },
     "execution_count": 2,
     "metadata": {},
     "output_type": "execute_result"
    }
   ],
   "source": [
    "a=pd.read_csv(\"myntra_products_catalog.csv\")\n",
    "a"
   ]
  },
  {
   "cell_type": "code",
   "execution_count": 3,
   "id": "f65c1aa3-6c3b-49eb-a9d8-3a39e54f74dc",
   "metadata": {},
   "outputs": [
    {
     "name": "stdout",
     "output_type": "stream",
     "text": [
      "<class 'pandas.core.frame.DataFrame'>\n",
      "RangeIndex: 12491 entries, 0 to 12490\n",
      "Data columns (total 8 columns):\n",
      " #   Column        Non-Null Count  Dtype \n",
      "---  ------        --------------  ----- \n",
      " 0   ProductID     12491 non-null  int64 \n",
      " 1   ProductName   12491 non-null  object\n",
      " 2   ProductBrand  12491 non-null  object\n",
      " 3   Gender        12491 non-null  object\n",
      " 4   Price (INR)   12491 non-null  int64 \n",
      " 5   NumImages     12491 non-null  int64 \n",
      " 6   Description   12491 non-null  object\n",
      " 7   PrimaryColor  11597 non-null  object\n",
      "dtypes: int64(3), object(5)\n",
      "memory usage: 780.8+ KB\n"
     ]
    }
   ],
   "source": [
    "a.info()"
   ]
  },
  {
   "cell_type": "code",
   "execution_count": 4,
   "id": "9a52c330-3326-4461-bcba-4e0e13c43170",
   "metadata": {},
   "outputs": [
    {
     "data": {
      "text/html": [
       "<div>\n",
       "<style scoped>\n",
       "    .dataframe tbody tr th:only-of-type {\n",
       "        vertical-align: middle;\n",
       "    }\n",
       "\n",
       "    .dataframe tbody tr th {\n",
       "        vertical-align: top;\n",
       "    }\n",
       "\n",
       "    .dataframe thead th {\n",
       "        text-align: right;\n",
       "    }\n",
       "</style>\n",
       "<table border=\"1\" class=\"dataframe\">\n",
       "  <thead>\n",
       "    <tr style=\"text-align: right;\">\n",
       "      <th></th>\n",
       "      <th>ProductID</th>\n",
       "      <th>Price (INR)</th>\n",
       "      <th>NumImages</th>\n",
       "    </tr>\n",
       "  </thead>\n",
       "  <tbody>\n",
       "    <tr>\n",
       "      <th>count</th>\n",
       "      <td>1.249100e+04</td>\n",
       "      <td>12491.000000</td>\n",
       "      <td>12491.000000</td>\n",
       "    </tr>\n",
       "    <tr>\n",
       "      <th>mean</th>\n",
       "      <td>9.917160e+06</td>\n",
       "      <td>1452.660956</td>\n",
       "      <td>4.913698</td>\n",
       "    </tr>\n",
       "    <tr>\n",
       "      <th>std</th>\n",
       "      <td>1.438006e+06</td>\n",
       "      <td>2118.503976</td>\n",
       "      <td>1.092333</td>\n",
       "    </tr>\n",
       "    <tr>\n",
       "      <th>min</th>\n",
       "      <td>1.012060e+05</td>\n",
       "      <td>90.000000</td>\n",
       "      <td>1.000000</td>\n",
       "    </tr>\n",
       "    <tr>\n",
       "      <th>25%</th>\n",
       "      <td>1.006215e+07</td>\n",
       "      <td>649.000000</td>\n",
       "      <td>5.000000</td>\n",
       "    </tr>\n",
       "    <tr>\n",
       "      <th>50%</th>\n",
       "      <td>1.015463e+07</td>\n",
       "      <td>920.000000</td>\n",
       "      <td>5.000000</td>\n",
       "    </tr>\n",
       "    <tr>\n",
       "      <th>75%</th>\n",
       "      <td>1.021565e+07</td>\n",
       "      <td>1499.000000</td>\n",
       "      <td>5.000000</td>\n",
       "    </tr>\n",
       "    <tr>\n",
       "      <th>max</th>\n",
       "      <td>1.027514e+07</td>\n",
       "      <td>63090.000000</td>\n",
       "      <td>10.000000</td>\n",
       "    </tr>\n",
       "  </tbody>\n",
       "</table>\n",
       "</div>"
      ],
      "text/plain": [
       "          ProductID   Price (INR)     NumImages\n",
       "count  1.249100e+04  12491.000000  12491.000000\n",
       "mean   9.917160e+06   1452.660956      4.913698\n",
       "std    1.438006e+06   2118.503976      1.092333\n",
       "min    1.012060e+05     90.000000      1.000000\n",
       "25%    1.006215e+07    649.000000      5.000000\n",
       "50%    1.015463e+07    920.000000      5.000000\n",
       "75%    1.021565e+07   1499.000000      5.000000\n",
       "max    1.027514e+07  63090.000000     10.000000"
      ]
     },
     "execution_count": 4,
     "metadata": {},
     "output_type": "execute_result"
    }
   ],
   "source": [
    "a.describe()"
   ]
  },
  {
   "cell_type": "code",
   "execution_count": 5,
   "id": "1921bb1d-4986-4ba3-bad9-05544b95ea6c",
   "metadata": {},
   "outputs": [
    {
     "data": {
      "text/plain": [
       "ProductID         0\n",
       "ProductName       0\n",
       "ProductBrand      0\n",
       "Gender            0\n",
       "Price (INR)       0\n",
       "NumImages         0\n",
       "Description       0\n",
       "PrimaryColor    894\n",
       "dtype: int64"
      ]
     },
     "execution_count": 5,
     "metadata": {},
     "output_type": "execute_result"
    }
   ],
   "source": [
    "a.isnull().sum()"
   ]
  },
  {
   "cell_type": "code",
   "execution_count": 6,
   "id": "27bbc279-802c-44df-93e3-134a8e58c38a",
   "metadata": {},
   "outputs": [
    {
     "data": {
      "text/plain": [
       "np.int64(894)"
      ]
     },
     "execution_count": 6,
     "metadata": {},
     "output_type": "execute_result"
    }
   ],
   "source": [
    "a.isnull().sum().sum()"
   ]
  },
  {
   "cell_type": "code",
   "execution_count": 7,
   "id": "6543369b-a7be-44c4-a3f2-c79251fa46ef",
   "metadata": {},
   "outputs": [
    {
     "data": {
      "text/plain": [
       "Index(['ProductID', 'ProductName', 'ProductBrand', 'Gender', 'Price (INR)',\n",
       "       'NumImages', 'Description', 'PrimaryColor'],\n",
       "      dtype='object')"
      ]
     },
     "execution_count": 7,
     "metadata": {},
     "output_type": "execute_result"
    }
   ],
   "source": [
    "a.columns"
   ]
  },
  {
   "cell_type": "code",
   "execution_count": 8,
   "id": "bbf65a0e-bfb3-4138-a3ee-81463b93aa82",
   "metadata": {},
   "outputs": [
    {
     "data": {
      "text/plain": [
       "(12491, 8)"
      ]
     },
     "execution_count": 8,
     "metadata": {},
     "output_type": "execute_result"
    }
   ],
   "source": [
    "a.shape"
   ]
  },
  {
   "cell_type": "code",
   "execution_count": 9,
   "id": "da5de682-3be9-439c-9a6d-0c0cc00b8caa",
   "metadata": {},
   "outputs": [
    {
     "data": {
      "text/plain": [
       "(677,\n",
       " array(['DKNY', 'EthnoVogue', 'SPYKAR', 'Raymond', 'Parx', 'SHOWOFF',\n",
       "        'Kenneth Cole', 'Police', 'Vishudh', 'Being Human', 'Homesake',\n",
       "        'SEJ by Nisha Gupta', 'YAK YAK', 'PARFAIT', 'Michael Kors',\n",
       "        'HIGHLANDER', 'JEWEL JUNCTION', 'ID', 'Story@home',\n",
       "        'Gini and Jony', 'Sera', 'AccessHer', 'Alcis',\n",
       "        'Difference of Opinion', 'Tokyo Talkies', 'ANNA SUI',\n",
       "        'her by invictus', 'Soie', 'Lara Karen', 'Urban Dog', 'ahilya',\n",
       "        'VASTRAMAY', 'Campus Sutra', 'FIDO DIDO', 'MIAH Decor', 'BuckleUp',\n",
       "        'Peter England', 'AIGNER', 'Lady Lyka', 'Park Avenue', 'Roadster',\n",
       "        'U.S. Polo Assn. Denim Co.', 'Sweet Dreams', 'Kazo', 'Stylo Bug',\n",
       "        'Bvlgari', 'Qraa Men', 'GAS', 'WITH', 'ZUSH', 'JBN Creation',\n",
       "        'U.S. Polo Assn. Kids', 'DressBerry', 'ColorPlus', 'Lakme',\n",
       "        'Allen Solly Woman', 'Palm Tree', 'Arrow', 'DAVID BECKHAM',\n",
       "        'MANGO', 'Carrera', 'ROMEE', 'TAYHAA', 'Ishin', 'Shoe Couture',\n",
       "        'HARBORNBAY', 'Keds', 'Rozia', 'Aj DEZInES', 'Monte Carlo', 'even',\n",
       "        'ether', 'Crimsoune Club', 'Russell Athletic', 'MIMOSA', 'Puma',\n",
       "        'Blackberrys', 'Playdate', 'Rocia', 'Marvel by Wear Your Mind',\n",
       "        'Annabelle by Pantaloons', 'berrytree', 'SIMON CARTER LONDON',\n",
       "        'Beli', 'Nautica', 'Jn Joy', 'THE SILHOUETTE STORE', 'Xpose',\n",
       "        'MBE', 'Mast & Harbour', 'JC Collection', 'GUESS', 'NEUDIS',\n",
       "        'StyleStone', 'SASSAFRAS', 'United Colors of Benetton', 'VLCC',\n",
       "        'Kook N Keech Disney', 'Bubblegummers', 'Hoopers',\n",
       "        'Peter England Casuals', 'Honey by Pantaloons', 'Pink Cow',\n",
       "        'DOROTHY PERKINS', 'Crew STREET', 'Bhama Couture', 'Zippo',\n",
       "        'Daffodils', 'aramis', 'C9 AIRWEAR', 'Oxolloxo', 'Soumya', 'Crocs',\n",
       "        'Carlton London', 'HERE&NOW', 'French Connection', 'Next Look',\n",
       "        'XYXX', 'shaze', 'Bitiya by Bhama', 'Geox', 'Tulsattva',\n",
       "        'ExclusiveLane', 'SHISEIDO', 'MSC', 'Anekaant', 'Innisfree',\n",
       "        'Wintage', 'LOCOMOTIVE', 'Bene Kleed', 'Varanga',\n",
       "        'HRX by Hrithik Roshan', 'Avira Home', 'Force 10', 'maxima',\n",
       "        'Aapno Rajasthan', 'Fortune', 'Moedbuille', 'Blue Saint', 'MASPAR',\n",
       "        'W', 'SCORPIUS', 'Ecko Unltd', 'BERING', 'Healers', 'Kvsfab',\n",
       "        'MOVADO', 'CINOCCI', 'Mitera', 'Harvard', 'Ojjasvi', 'Wild stone',\n",
       "        'AVANT-GARDE PARIS', 'Gliders', 'U&F', 'Abhishti', 'Dreamscape',\n",
       "        'OddCroft', 'Flying Machine', 'IT luggage', 'Nike', 'One Friday',\n",
       "        'Indibelle', 'Dynamocks', 'Arrow New York', 'Titan', 'Zoop',\n",
       "        'Levis', 'IVOC', 'Athena', 'Elizabeth Arden', 'Arrow Sport',\n",
       "        'Red Tape', 'PANAHI', 'Veni Vidi Vici', 'CODE by Lifestyle',\n",
       "        'Fame Forever by Lifestyle', 'Sonata', 'Yuris', 'Sherrif Shoes',\n",
       "        'TIMESMITH', 'Cherry Crumble', 'Senorita', 'CHUTPUT',\n",
       "        'Slumber Jill', 'Metro', 'Marks & Spencer', 'Fastrack',\n",
       "        'DODO & MOA', 'FabSeasons', 'Shaily', 'Mirchi Fashion',\n",
       "        'Sergio Tacchini', 'Janasya', 'Bossini', 'Rajnandini',\n",
       "        'Call It Spring', 'Coolers', 'Chhabra 555', 'LA LOFT', 'Cottinfab',\n",
       "        'Calvin Klein', 'Liberty', 'IMYOUNG', 'CLAY CRAFT',\n",
       "        'Crunchy Fashion', 'Respiro', 'trueBrowns', 'Trend Arrest',\n",
       "        'Besiva', 'INCOLOR', 'Kraus Jeans', 'RICHARD PARKER by Pantaloons',\n",
       "        'Mali Fionna', 'Kryptic', 'San Frissco', 'You Got Plan B',\n",
       "        'The Kaftan Company', 'Simply', 'Infuzze', 'Sir Corbett',\n",
       "        'HOME DECOR INDIA', 'Vero Moda', 'Be Indi', 'Da Intimo', 'Camey',\n",
       "        'Solemio', 'MsFQ', 'Forever New', 'Killer', 'AURELIA',\n",
       "        'Miss Chase', 'Saadgi', 'Lee Cooper', 'Foolzy', 'ZHEIA',\n",
       "        'Friskers', 'UCLA', 'Genie', 'Femmora', 'Fos Lighting',\n",
       "        'FirstClap', 'Clovia', 'Style Quotient', 'Rajasthan Decor',\n",
       "        'SG YUVRAJ', 'URBAN TRIBE', 'CASIO', 'VRINDA', 'Lady Stark',\n",
       "        'Newton', 'Bodycare', 'Alvaro Castagnino', 'Organic Harvest',\n",
       "        'Campus', 'Free Authority', 'Dennmarks', 'Voylla', 'Wish Karo',\n",
       "        'MBOSS', 'Mochi', 'ELLE', 'OBSESSIONS', 'Living Essence',\n",
       "        'GIORDANO', 'Hi RELs', 'DDecor', 'INVICTUS', 'Evoke 1899',\n",
       "        'Newport', 'Schwarzkopf PROFESSIONAL', 'Louis Philippe', 'PANIT',\n",
       "        'SELECTED', 'SOJANYA', 'Sangria', 'Divine Casa', 'Unravel India',\n",
       "        'Steenbok', 'Belle Fille', 'Kittens', 'Slub', 'Blissta', 'Alena',\n",
       "        'SWHF', 'JUMP USA', 'St. Ives', 'FabAlley', 'Nucleus',\n",
       "        'Home Sparkle', 'shiloh', 'Allen Solly', 'KLEIO', 'Maniac',\n",
       "        'Globus', 'Fourwalls', 'AKKRITI BY PANTALOONS', 'Genius',\n",
       "        'Bohemia Crystal', 'EQUINOX', 'Zink London', 'YASH GALLERY',\n",
       "        'Sparx', 'Van Heusen', 'YK', 'Blue Giraffe', 'Silvermerc Designs',\n",
       "        'Black coffee', 'Jacques Lemans', 'ZIYAA',\n",
       "        'SKULT by Shahid Kapoor', 'PERFKT-U', 'Zeal', 'Cortina', 'plusS',\n",
       "        'V Dot', 'Shoetopia', 'Eavan', 'Masch Sports', 'Devis', 'Namyaa',\n",
       "        'ONLY', 'Eske', 'MIWAY', 'Smiley World', 'Maserati', 'Archies',\n",
       "        'Marie Claire', 'Chumbak', 'Aber & Q', 'People', 'GMF', 'ABELINO',\n",
       "        'COVER STORY', 'Karmic Vision', 'Bonjour', 'Deco Window', 'ADIVA',\n",
       "        'Latin Quarters', 'Moda Rapido', 'Indian Terrain', 'RARE', 'SOLES',\n",
       "        'Lavie', 'Truffle Collection', 'GAP', 'KARATCART', 'Priyaasi',\n",
       "        'Mine4Nine', 'CHROME & CORAL', 'FAUSTO',\n",
       "        'ADORN by Nikita Ladiwala', 'Hancock', 'Calvin Klein Jeans',\n",
       "        'Secret Temptation', 'HEATWAVE', 'BownBee', 'Baggit', 'Force NXT',\n",
       "        'URBANE', 'Canary London', 'Jack & Jones', 'fancy mart',\n",
       "        'ADORENITE', 'Hypernation', 'Pantaloons Junior',\n",
       "        'Minions by Kook N Keech', 'Caprese', 'SUITLTD', 'Harpa', 'Taavi',\n",
       "        'Geroo Jaipur', 'Bamboo Tree Jewels', 'Kappa', 'Sher Singh',\n",
       "        'Morpheme Remedies', 'KiddoPanti', 'ANTS', 'Allen Cooper',\n",
       "        'Pure Home and Living', 'ComicSense.xyz', 'Louis Philippe Sport',\n",
       "        'Monrow', 'breya', 'RANGMANCH BY PANTALOONS', 'Wonder Woman',\n",
       "        'Melange by Lifestyle', 'CERIZ', 'Eego Italy', 'Knotyy', 'mf',\n",
       "        'Chemistry', 'TREEMODA', 'Chambor', 'OOMPH', 'KazarMax', 'Chkokko',\n",
       "        'Duke', 'Club York', 'BBLUNT', 'Jewels Galaxy', 'Molly & Michel',\n",
       "        'The Beauty Co.', 'Libas', 'Pipa Bella', 'FOSH', 'Freehand',\n",
       "        'Ed Hardy', 'Aditi Wasan', 'Akiva', 'Franco Leone', 'Mufti',\n",
       "        '7Rainbow', 'beevee', 'Yellow Jeans', 'Soludos', 'Tresmode',\n",
       "        'bigbanana', 'Rex Straut Jeans', 'hummel', 'E2O',\n",
       "        'CAVALLO by Linen Club', 'Tommy Hilfiger', 'PRESTO', 'Tistabene',\n",
       "        'boAt', 'DENNISON', 'U.S. Polo Assn.', \"Kurti's by Menka\",\n",
       "        'Saree mall', 'Forca by Lifestyle', 'VALIOSAA',\n",
       "        'Ginger by Lifestyle', 'Iti', 'Stylee LIFESTYLE', 'JAINISH',\n",
       "        'Cation', 'WROGN', 'GODS', 'Disney by Wear Your Mind',\n",
       "        'Calvin Klein Underwear', 'Ayesha', 'Woodland', 'INDYA',\n",
       "        'meriggiare', 'BIANCA', 'Kook N Keech Marvel', 'Just Wow',\n",
       "        'Golden Peacock', 'Rosaline', 'Wildcraft', 'Rubans',\n",
       "        'Zaveri Pearls', 'CUTECUMBER', 'HAMMER', 'PrettyCat',\n",
       "        'Johnny Bravo by Kook N Keech', 'Zivame', 'Kook N Keech Garfield',\n",
       "        'Tissu', 'Turkish Bath', 'Nature Casuals', 'Unshaven',\n",
       "        'GIO COLLECTION', 'YWC', 'Kraft Cellar', 'Saral Home',\n",
       "        'justpeachy', 'GERUA', 'Skechers', 'Studio Voylla',\n",
       "        'Bruno Manetti', 'Invincible', 'Global Desi', 'yelloe',\n",
       "        'American Crew', 'Blisscovered', 'Alina decor', 'MANOHARI',\n",
       "        'Aujjessa', 't-base', 'NBA', 'RUF & TUF', 'SPRAY GROUND',\n",
       "        'UNKNOWN by Ayesha', 'WILD WEST', 'Pure Play', 'PUMA Motorsport',\n",
       "        '20Dresses', 'Enamor', 'Aerosoles', 'Garmin', 'Street Style Store',\n",
       "        'Alom', 'DOT & KEY', 'pinwheel', 'Lotto', 'IZOD', 'Ruosh',\n",
       "        'Aarika', 'Envy', 'Reebok Classic', 'FEVER', 'Madame',\n",
       "        '612 league', 'Tossido', 'WISSTLER', 'AHIKA', 'Jompers', 'Yuuki',\n",
       "        'Ahalyaa', 'Z-ZOOM', 'Van Heusen Woman', 'Blacksmith', 'fungus',\n",
       "        'Naari', 'Van Heusen Sport', 'Lady Love', 'NIZA', 'Saint G',\n",
       "        'HIROLAS', 'The Pink Moon', 'MISH', 'Vozaf',\n",
       "        'Louis Philippe Jeans', 'Indo Era', 'CALFNERO',\n",
       "        'The House of Tara', 'Kids Ville', 'The Chennai Silks', 'Superdry',\n",
       "        'Fox', 'Anouk', 'OFF LIMITS', 'Frozen', 'DIXCY SCOTT', 'BEARDO',\n",
       "        'Sherlock', 'FS Mini Klub', 'De Moza', 'VarEesha', 'Zelocity',\n",
       "        'Peanuts', 'Denizen From Levis', 'Ferraiolo', 'Yaadleen',\n",
       "        'Peter England Elite', 'SEIKO', 'TALES & STORIES',\n",
       "        'Daily Life Forever52', 'The Vanca', 'AND', 'The Indian Garage Co',\n",
       "        'Voyage', 'Reebok', 'SCOUP', 'GNIST', 'Biba', 'RAISIN', 'AASK',\n",
       "        'FABNEST', 'Signature Sole', 'Batman', 'STAR WARS', 'SWAROVSKI',\n",
       "        'FUGAZEE', 'KAMA AYURVEDA', 'ADIDAS Originals', 'Fusion Beats',\n",
       "        'bodha', 'Peora', 'Amante', 'naughty ninos', 'Rajesh Silk Mills',\n",
       "        'ADIDAS', 'Allen Solly Sport', 'Krafted with Happiness',\n",
       "        'Golden Girl', 'RUGSMITH', 'SKAGEN', 'Masculino Latino',\n",
       "        'Lychee bags', 'Ira Soleil', 'CORSICA', 'Instacrush',\n",
       "        'SCUDERIA FERRARI', 'Superman', 'DailyObjects', 'The Dry State',\n",
       "        'Makeup Revolution London', 'Orange and Orchid', 'CAPTAIN AMERICA',\n",
       "        'Teakwood Leathers', 'Ponds', 'Inc 5', 'EK DO DHAI', 'Natilene',\n",
       "        'OBOW', 'Basics', 'ESBEDA', 'TAG EYE', 'Proline Active',\n",
       "        'FableStreet', 'amraoo', 'Varkala Silk Sarees', 'LilPicks',\n",
       "        'Lacoste', 'Purple Feather', 'FURO by Red Chief', 'WESTCLO',\n",
       "        'FOREVER 21', 'Barbie by Many Frocks &', 'Khushal K',\n",
       "        'Rangoli Jaipur', 'I AM FOR YOU', 'Soulflower',\n",
       "        'Allen Solly Junior', 'Hubberholme', 'BOLLYGLOW', 'Braun',\n",
       "        'DUGRISTYLE', 'HUNTER 1114', 'FILA', 'Vastraa Fusion', 'Renka',\n",
       "        'U.S. Polo Assn. Women', 'Antheaa', 'Tikhi Imli', 'Wear Your Mind',\n",
       "        'Moon Dust', 'Philips', 'AWW HUNNIE', 'Purple State', 'Kidling',\n",
       "        'Twisha', 'Genius18', 'Pepe Jeans', 'Plum', 'Lapis O Lupo',\n",
       "        'SHINGORA', 'Lino Perros', 'Revlon', 'MomToBe', 'DEYANN',\n",
       "        'Nauti Nati', 'FLAVIDO', 'QUIERO', 'Inddus', 'Laceandme',\n",
       "        'Maybelline', 'STREET 9', 'Rain & Rainbow', 'Campana', 'ToniQ',\n",
       "        'OSHKOSH Bgosh', 'Qurvii', 'ULRIC DE VARENS', 'BUKKUM', 'KID1',\n",
       "        'Hidesign', 'Sonari', 'Wrangler', 'Ives', 'Noble Faith', 'PURYS',\n",
       "        'BEAT LONDON by PEPE JEANS', 'Chopard', 'House of Pataudi', 'INVU',\n",
       "        'CAT', 'ESPRIT', 'PRITA', 'Satrani', '109F', 'SWISS MILITARY',\n",
       "        'Carven', 'Stupid Cupid'], dtype=object))"
      ]
     },
     "execution_count": 9,
     "metadata": {},
     "output_type": "execute_result"
    }
   ],
   "source": [
    "a['ProductBrand'].nunique(),a['ProductBrand'].unique()"
   ]
  },
  {
   "cell_type": "code",
   "execution_count": 10,
   "id": "7d105a75-188c-4f0e-9ca0-ead9f84b0106",
   "metadata": {},
   "outputs": [
    {
     "data": {
      "text/plain": [
       "(6,\n",
       " array(['Unisex', 'Women', 'Men', 'Boys', 'Girls', 'Unisex Kids'],\n",
       "       dtype=object))"
      ]
     },
     "execution_count": 10,
     "metadata": {},
     "output_type": "execute_result"
    }
   ],
   "source": [
    "a['Gender'].nunique(),a['Gender'].unique()"
   ]
  },
  {
   "cell_type": "code",
   "execution_count": 11,
   "id": "5d874151-db5c-4030-a709-26275aff22c8",
   "metadata": {},
   "outputs": [
    {
     "data": {
      "text/plain": [
       "Gender\n",
       "Women          5126\n",
       "Men            4591\n",
       "Unisex         1188\n",
       "Boys           1100\n",
       "Girls           440\n",
       "Unisex Kids      46\n",
       "Name: count, dtype: int64"
      ]
     },
     "execution_count": 11,
     "metadata": {},
     "output_type": "execute_result"
    }
   ],
   "source": [
    "a['Gender'].value_counts()\n"
   ]
  },
  {
   "cell_type": "code",
   "execution_count": 12,
   "id": "e9e82b72-c807-4bc0-bc5d-3f0fd6548897",
   "metadata": {},
   "outputs": [
    {
     "data": {
      "text/html": [
       "<div>\n",
       "<style scoped>\n",
       "    .dataframe tbody tr th:only-of-type {\n",
       "        vertical-align: middle;\n",
       "    }\n",
       "\n",
       "    .dataframe tbody tr th {\n",
       "        vertical-align: top;\n",
       "    }\n",
       "\n",
       "    .dataframe thead th {\n",
       "        text-align: right;\n",
       "    }\n",
       "</style>\n",
       "<table border=\"1\" class=\"dataframe\">\n",
       "  <thead>\n",
       "    <tr style=\"text-align: right;\">\n",
       "      <th></th>\n",
       "      <th>ProductID</th>\n",
       "      <th>ProductName</th>\n",
       "      <th>ProductBrand</th>\n",
       "      <th>Gender</th>\n",
       "      <th>Price (INR)</th>\n",
       "      <th>Description</th>\n",
       "      <th>PrimaryColor</th>\n",
       "    </tr>\n",
       "  </thead>\n",
       "  <tbody>\n",
       "    <tr>\n",
       "      <th>0</th>\n",
       "      <td>10017413</td>\n",
       "      <td>DKNY Unisex Black &amp; Grey Printed Medium Trolle...</td>\n",
       "      <td>DKNY</td>\n",
       "      <td>Unisex</td>\n",
       "      <td>11745</td>\n",
       "      <td>Black and grey printed medium trolley bag, sec...</td>\n",
       "      <td>Black</td>\n",
       "    </tr>\n",
       "    <tr>\n",
       "      <th>1</th>\n",
       "      <td>10016283</td>\n",
       "      <td>EthnoVogue Women Beige &amp; Grey Made to Measure ...</td>\n",
       "      <td>EthnoVogue</td>\n",
       "      <td>Women</td>\n",
       "      <td>5810</td>\n",
       "      <td>Beige &amp; Grey made to measure kurta with churid...</td>\n",
       "      <td>Beige</td>\n",
       "    </tr>\n",
       "    <tr>\n",
       "      <th>2</th>\n",
       "      <td>10009781</td>\n",
       "      <td>SPYKAR Women Pink Alexa Super Skinny Fit High-...</td>\n",
       "      <td>SPYKAR</td>\n",
       "      <td>Women</td>\n",
       "      <td>899</td>\n",
       "      <td>Pink coloured wash 5-pocket high-rise cropped ...</td>\n",
       "      <td>Pink</td>\n",
       "    </tr>\n",
       "    <tr>\n",
       "      <th>3</th>\n",
       "      <td>10015921</td>\n",
       "      <td>Raymond Men Blue Self-Design Single-Breasted B...</td>\n",
       "      <td>Raymond</td>\n",
       "      <td>Men</td>\n",
       "      <td>5599</td>\n",
       "      <td>Blue self-design bandhgala suitBlue self-desig...</td>\n",
       "      <td>Blue</td>\n",
       "    </tr>\n",
       "    <tr>\n",
       "      <th>4</th>\n",
       "      <td>10017833</td>\n",
       "      <td>Parx Men Brown &amp; Off-White Slim Fit Printed Ca...</td>\n",
       "      <td>Parx</td>\n",
       "      <td>Men</td>\n",
       "      <td>759</td>\n",
       "      <td>Brown and off-white printed casual shirt, has ...</td>\n",
       "      <td>White</td>\n",
       "    </tr>\n",
       "    <tr>\n",
       "      <th>...</th>\n",
       "      <td>...</td>\n",
       "      <td>...</td>\n",
       "      <td>...</td>\n",
       "      <td>...</td>\n",
       "      <td>...</td>\n",
       "      <td>...</td>\n",
       "      <td>...</td>\n",
       "    </tr>\n",
       "    <tr>\n",
       "      <th>12486</th>\n",
       "      <td>10262843</td>\n",
       "      <td>Pepe Jeans Men Black Hammock Slim Fit Low-Rise...</td>\n",
       "      <td>Pepe Jeans</td>\n",
       "      <td>Men</td>\n",
       "      <td>1299</td>\n",
       "      <td>Black dark wash 5-pocket low-rise jeans, clean...</td>\n",
       "      <td>Black</td>\n",
       "    </tr>\n",
       "    <tr>\n",
       "      <th>12487</th>\n",
       "      <td>10261721</td>\n",
       "      <td>Mochi Women Gold-Toned Solid Heels</td>\n",
       "      <td>Mochi</td>\n",
       "      <td>Women</td>\n",
       "      <td>1990</td>\n",
       "      <td>A pair of gold-toned open toe heels, has regul...</td>\n",
       "      <td>Gold</td>\n",
       "    </tr>\n",
       "    <tr>\n",
       "      <th>12488</th>\n",
       "      <td>10261607</td>\n",
       "      <td>612 league Girls Navy Blue &amp; White Printed Reg...</td>\n",
       "      <td>612 league</td>\n",
       "      <td>Girls</td>\n",
       "      <td>602</td>\n",
       "      <td>Navy Blue and White printed mid-rise denim sho...</td>\n",
       "      <td>Blue</td>\n",
       "    </tr>\n",
       "    <tr>\n",
       "      <th>12489</th>\n",
       "      <td>10266621</td>\n",
       "      <td>Bvlgari Men Aqva Pour Homme Marine Eau de Toil...</td>\n",
       "      <td>Bvlgari</td>\n",
       "      <td>Men</td>\n",
       "      <td>8950</td>\n",
       "      <td>Bvlgari Men Aqva Pour Homme Marine Eau de Toil...</td>\n",
       "      <td>NaN</td>\n",
       "    </tr>\n",
       "    <tr>\n",
       "      <th>12490</th>\n",
       "      <td>10265199</td>\n",
       "      <td>Pepe Jeans Men Black &amp; Grey Striped Polo Colla...</td>\n",
       "      <td>Pepe Jeans</td>\n",
       "      <td>Men</td>\n",
       "      <td>799</td>\n",
       "      <td>Black and grey striped T-shirt, has a polo col...</td>\n",
       "      <td>Black</td>\n",
       "    </tr>\n",
       "  </tbody>\n",
       "</table>\n",
       "<p>12491 rows × 7 columns</p>\n",
       "</div>"
      ],
      "text/plain": [
       "       ProductID                                        ProductName  \\\n",
       "0       10017413  DKNY Unisex Black & Grey Printed Medium Trolle...   \n",
       "1       10016283  EthnoVogue Women Beige & Grey Made to Measure ...   \n",
       "2       10009781  SPYKAR Women Pink Alexa Super Skinny Fit High-...   \n",
       "3       10015921  Raymond Men Blue Self-Design Single-Breasted B...   \n",
       "4       10017833  Parx Men Brown & Off-White Slim Fit Printed Ca...   \n",
       "...          ...                                                ...   \n",
       "12486   10262843  Pepe Jeans Men Black Hammock Slim Fit Low-Rise...   \n",
       "12487   10261721                 Mochi Women Gold-Toned Solid Heels   \n",
       "12488   10261607  612 league Girls Navy Blue & White Printed Reg...   \n",
       "12489   10266621  Bvlgari Men Aqva Pour Homme Marine Eau de Toil...   \n",
       "12490   10265199  Pepe Jeans Men Black & Grey Striped Polo Colla...   \n",
       "\n",
       "      ProductBrand  Gender  Price (INR)  \\\n",
       "0             DKNY  Unisex        11745   \n",
       "1       EthnoVogue   Women         5810   \n",
       "2           SPYKAR   Women          899   \n",
       "3          Raymond     Men         5599   \n",
       "4             Parx     Men          759   \n",
       "...            ...     ...          ...   \n",
       "12486   Pepe Jeans     Men         1299   \n",
       "12487        Mochi   Women         1990   \n",
       "12488   612 league   Girls          602   \n",
       "12489      Bvlgari     Men         8950   \n",
       "12490   Pepe Jeans     Men          799   \n",
       "\n",
       "                                             Description PrimaryColor  \n",
       "0      Black and grey printed medium trolley bag, sec...        Black  \n",
       "1      Beige & Grey made to measure kurta with churid...        Beige  \n",
       "2      Pink coloured wash 5-pocket high-rise cropped ...         Pink  \n",
       "3      Blue self-design bandhgala suitBlue self-desig...         Blue  \n",
       "4      Brown and off-white printed casual shirt, has ...        White  \n",
       "...                                                  ...          ...  \n",
       "12486  Black dark wash 5-pocket low-rise jeans, clean...        Black  \n",
       "12487  A pair of gold-toned open toe heels, has regul...         Gold  \n",
       "12488  Navy Blue and White printed mid-rise denim sho...         Blue  \n",
       "12489  Bvlgari Men Aqva Pour Homme Marine Eau de Toil...          NaN  \n",
       "12490  Black and grey striped T-shirt, has a polo col...        Black  \n",
       "\n",
       "[12491 rows x 7 columns]"
      ]
     },
     "execution_count": 12,
     "metadata": {},
     "output_type": "execute_result"
    }
   ],
   "source": [
    "a=a.drop(columns=['NumImages'],axis=1)\n",
    "a"
   ]
  },
  {
   "cell_type": "code",
   "execution_count": 13,
   "id": "37c08696-6842-42b2-83f2-79245955d1f1",
   "metadata": {},
   "outputs": [
    {
     "data": {
      "text/plain": [
       "(12491, 7)"
      ]
     },
     "execution_count": 13,
     "metadata": {},
     "output_type": "execute_result"
    }
   ],
   "source": [
    "a.shape "
   ]
  },
  {
   "cell_type": "code",
   "execution_count": 14,
   "id": "85a3c5f8-0b69-4001-b2dd-359374970219",
   "metadata": {},
   "outputs": [
    {
     "data": {
      "text/plain": [
       "np.int64(12491)"
      ]
     },
     "execution_count": 14,
     "metadata": {},
     "output_type": "execute_result"
    }
   ],
   "source": [
    "a['Gender'].value_counts().sum()"
   ]
  },
  {
   "cell_type": "code",
   "execution_count": 15,
   "id": "33284e23-dce2-4d34-ac0d-8cb285bd850b",
   "metadata": {},
   "outputs": [
    {
     "data": {
      "text/plain": [
       "PrimaryColor\n",
       "Blue         3443\n",
       " Black       1640\n",
       " Red         1543\n",
       " Green        908\n",
       " White        880\n",
       " Grey         684\n",
       " Brown        473\n",
       " Yellow       406\n",
       " Pink         391\n",
       " Beige        236\n",
       " Gold         236\n",
       " Maroon       187\n",
       " Orange       130\n",
       " Silver       111\n",
       " Purple        65\n",
       " Burgundy      64\n",
       " Khaki         56\n",
       " Navy          54\n",
       " Lavender      19\n",
       " Matte         17\n",
       " Mustard       15\n",
       " Magenta       13\n",
       " Charcoal      10\n",
       " Rose           8\n",
       " Platinum       3\n",
       " Bronze         3\n",
       " Peach          2\n",
       "Name: count, dtype: int64"
      ]
     },
     "execution_count": 15,
     "metadata": {},
     "output_type": "execute_result"
    }
   ],
   "source": [
    "a['PrimaryColor'].value_counts()"
   ]
  },
  {
   "cell_type": "code",
   "execution_count": 16,
   "id": "5049fd48-39fb-4eb5-9236-1dd98a4e0651",
   "metadata": {},
   "outputs": [
    {
     "data": {
      "text/html": [
       "<div>\n",
       "<style scoped>\n",
       "    .dataframe tbody tr th:only-of-type {\n",
       "        vertical-align: middle;\n",
       "    }\n",
       "\n",
       "    .dataframe tbody tr th {\n",
       "        vertical-align: top;\n",
       "    }\n",
       "\n",
       "    .dataframe thead th {\n",
       "        text-align: right;\n",
       "    }\n",
       "</style>\n",
       "<table border=\"1\" class=\"dataframe\">\n",
       "  <thead>\n",
       "    <tr style=\"text-align: right;\">\n",
       "      <th></th>\n",
       "      <th>ProductID</th>\n",
       "      <th>ProductName</th>\n",
       "      <th>ProductBrand</th>\n",
       "      <th>Gender</th>\n",
       "      <th>Price (INR)</th>\n",
       "      <th>Description</th>\n",
       "      <th>PrimaryColor</th>\n",
       "    </tr>\n",
       "  </thead>\n",
       "  <tbody>\n",
       "    <tr>\n",
       "      <th>0</th>\n",
       "      <td>10017413</td>\n",
       "      <td>DKNY Unisex Black &amp; Grey Printed Medium Trolle...</td>\n",
       "      <td>DKNY</td>\n",
       "      <td>Unisex</td>\n",
       "      <td>11745</td>\n",
       "      <td>Black and grey printed medium trolley bag, sec...</td>\n",
       "      <td>Black</td>\n",
       "    </tr>\n",
       "    <tr>\n",
       "      <th>1</th>\n",
       "      <td>10016283</td>\n",
       "      <td>EthnoVogue Women Beige &amp; Grey Made to Measure ...</td>\n",
       "      <td>EthnoVogue</td>\n",
       "      <td>Women</td>\n",
       "      <td>5810</td>\n",
       "      <td>Beige &amp; Grey made to measure kurta with churid...</td>\n",
       "      <td>Beige</td>\n",
       "    </tr>\n",
       "    <tr>\n",
       "      <th>2</th>\n",
       "      <td>10009781</td>\n",
       "      <td>SPYKAR Women Pink Alexa Super Skinny Fit High-...</td>\n",
       "      <td>SPYKAR</td>\n",
       "      <td>Women</td>\n",
       "      <td>899</td>\n",
       "      <td>Pink coloured wash 5-pocket high-rise cropped ...</td>\n",
       "      <td>Pink</td>\n",
       "    </tr>\n",
       "    <tr>\n",
       "      <th>3</th>\n",
       "      <td>10015921</td>\n",
       "      <td>Raymond Men Blue Self-Design Single-Breasted B...</td>\n",
       "      <td>Raymond</td>\n",
       "      <td>Men</td>\n",
       "      <td>5599</td>\n",
       "      <td>Blue self-design bandhgala suitBlue self-desig...</td>\n",
       "      <td>Blue</td>\n",
       "    </tr>\n",
       "    <tr>\n",
       "      <th>4</th>\n",
       "      <td>10017833</td>\n",
       "      <td>Parx Men Brown &amp; Off-White Slim Fit Printed Ca...</td>\n",
       "      <td>Parx</td>\n",
       "      <td>Men</td>\n",
       "      <td>759</td>\n",
       "      <td>Brown and off-white printed casual shirt, has ...</td>\n",
       "      <td>White</td>\n",
       "    </tr>\n",
       "    <tr>\n",
       "      <th>...</th>\n",
       "      <td>...</td>\n",
       "      <td>...</td>\n",
       "      <td>...</td>\n",
       "      <td>...</td>\n",
       "      <td>...</td>\n",
       "      <td>...</td>\n",
       "      <td>...</td>\n",
       "    </tr>\n",
       "    <tr>\n",
       "      <th>12481</th>\n",
       "      <td>1026753</td>\n",
       "      <td>Sonari Pack of 2 Bras afreen</td>\n",
       "      <td>Sonari</td>\n",
       "      <td>Women</td>\n",
       "      <td>750</td>\n",
       "      <td>Pack of two full-coverage bras in pink and mar...</td>\n",
       "      <td>NaN</td>\n",
       "    </tr>\n",
       "    <tr>\n",
       "      <th>12482</th>\n",
       "      <td>10261845</td>\n",
       "      <td>Belle Fille Women Olive Green &amp; White Polka Do...</td>\n",
       "      <td>Belle Fille</td>\n",
       "      <td>Women</td>\n",
       "      <td>799</td>\n",
       "      <td>Olive green and white polka dot print basic ju...</td>\n",
       "      <td>Green</td>\n",
       "    </tr>\n",
       "    <tr>\n",
       "      <th>12483</th>\n",
       "      <td>1027008</td>\n",
       "      <td>Sonari Pack of 2 Full-Coverage Bras celina</td>\n",
       "      <td>Sonari</td>\n",
       "      <td>Women</td>\n",
       "      <td>920</td>\n",
       "      <td>Pack of two full-coverage bras in whiteEach ha...</td>\n",
       "      <td>NaN</td>\n",
       "    </tr>\n",
       "    <tr>\n",
       "      <th>12484</th>\n",
       "      <td>10265177</td>\n",
       "      <td>Pepe Jeans Men Blue Printed Slim Pure Cotton R...</td>\n",
       "      <td>Pepe Jeans</td>\n",
       "      <td>Men</td>\n",
       "      <td>649</td>\n",
       "      <td>Blue and Green printed T-shirt, has a round ne...</td>\n",
       "      <td>Blue</td>\n",
       "    </tr>\n",
       "    <tr>\n",
       "      <th>12485</th>\n",
       "      <td>10261595</td>\n",
       "      <td>Laceandme Black Lace Non-Wired Lightly Padded ...</td>\n",
       "      <td>Laceandme</td>\n",
       "      <td>Women</td>\n",
       "      <td>569</td>\n",
       "      <td>Black lace full-coverage Bralette bra Lightly ...</td>\n",
       "      <td>Red</td>\n",
       "    </tr>\n",
       "  </tbody>\n",
       "</table>\n",
       "<p>12486 rows × 7 columns</p>\n",
       "</div>"
      ],
      "text/plain": [
       "       ProductID                                        ProductName  \\\n",
       "0       10017413  DKNY Unisex Black & Grey Printed Medium Trolle...   \n",
       "1       10016283  EthnoVogue Women Beige & Grey Made to Measure ...   \n",
       "2       10009781  SPYKAR Women Pink Alexa Super Skinny Fit High-...   \n",
       "3       10015921  Raymond Men Blue Self-Design Single-Breasted B...   \n",
       "4       10017833  Parx Men Brown & Off-White Slim Fit Printed Ca...   \n",
       "...          ...                                                ...   \n",
       "12481    1026753                       Sonari Pack of 2 Bras afreen   \n",
       "12482   10261845  Belle Fille Women Olive Green & White Polka Do...   \n",
       "12483    1027008         Sonari Pack of 2 Full-Coverage Bras celina   \n",
       "12484   10265177  Pepe Jeans Men Blue Printed Slim Pure Cotton R...   \n",
       "12485   10261595  Laceandme Black Lace Non-Wired Lightly Padded ...   \n",
       "\n",
       "      ProductBrand  Gender  Price (INR)  \\\n",
       "0             DKNY  Unisex        11745   \n",
       "1       EthnoVogue   Women         5810   \n",
       "2           SPYKAR   Women          899   \n",
       "3          Raymond     Men         5599   \n",
       "4             Parx     Men          759   \n",
       "...            ...     ...          ...   \n",
       "12481       Sonari   Women          750   \n",
       "12482  Belle Fille   Women          799   \n",
       "12483       Sonari   Women          920   \n",
       "12484   Pepe Jeans     Men          649   \n",
       "12485    Laceandme   Women          569   \n",
       "\n",
       "                                             Description PrimaryColor  \n",
       "0      Black and grey printed medium trolley bag, sec...        Black  \n",
       "1      Beige & Grey made to measure kurta with churid...        Beige  \n",
       "2      Pink coloured wash 5-pocket high-rise cropped ...         Pink  \n",
       "3      Blue self-design bandhgala suitBlue self-desig...         Blue  \n",
       "4      Brown and off-white printed casual shirt, has ...        White  \n",
       "...                                                  ...          ...  \n",
       "12481  Pack of two full-coverage bras in pink and mar...          NaN  \n",
       "12482  Olive green and white polka dot print basic ju...        Green  \n",
       "12483  Pack of two full-coverage bras in whiteEach ha...          NaN  \n",
       "12484  Blue and Green printed T-shirt, has a round ne...         Blue  \n",
       "12485  Black lace full-coverage Bralette bra Lightly ...          Red  \n",
       "\n",
       "[12486 rows x 7 columns]"
      ]
     },
     "execution_count": 16,
     "metadata": {},
     "output_type": "execute_result"
    }
   ],
   "source": [
    "a.head(-5)"
   ]
  },
  {
   "cell_type": "code",
   "execution_count": 17,
   "id": "d81a2c08-411c-423e-91e6-a6c47d8f6b2b",
   "metadata": {},
   "outputs": [
    {
     "data": {
      "text/plain": [
       "ProductID       12491\n",
       "ProductName     10761\n",
       "ProductBrand      677\n",
       "Gender              6\n",
       "Price (INR)      1543\n",
       "Description     10435\n",
       "PrimaryColor       27\n",
       "dtype: int64"
      ]
     },
     "execution_count": 17,
     "metadata": {},
     "output_type": "execute_result"
    }
   ],
   "source": [
    "a.nunique(0)"
   ]
  },
  {
   "cell_type": "code",
   "execution_count": 18,
   "id": "a406860b-c2a2-4aad-bfc9-bc608baf360e",
   "metadata": {},
   "outputs": [
    {
     "data": {
      "text/plain": [
       "np.int64(0)"
      ]
     },
     "execution_count": 18,
     "metadata": {},
     "output_type": "execute_result"
    }
   ],
   "source": [
    "a.duplicated().sum()"
   ]
  },
  {
   "cell_type": "code",
   "execution_count": 19,
   "id": "6c76607e-7ca1-4c8d-a5e7-acb80d3033f7",
   "metadata": {},
   "outputs": [
    {
     "name": "stdout",
     "output_type": "stream",
     "text": [
      "ProductBrand        \n",
      "Indian Terrain          971\n",
      "Puma                    345\n",
      "Pepe Jeans              340\n",
      "AURELIA                 307\n",
      "Flying Machine          301\n",
      "W                       261\n",
      "U.S. Polo Assn. Kids    234\n",
      "Roadster                232\n",
      "GAP                     216\n",
      "WROGN                   175\n",
      "Park Avenue             173\n",
      "HERE&NOW                164\n",
      "Parx                    154\n",
      "Cortina                 134\n",
      "Calvin Klein Jeans      131\n",
      "Name: count, dtype: int64\n"
     ]
    },
    {
     "data": {
      "image/png": "[encoded data removed]",
      "text/plain": [
       "<Figure size 640x480 with 1 Axes>"
      ]
     },
     "metadata": {},
     "output_type": "display_data"
    }
   ],
   "source": [
    "a1=a.groupby('ProductBrand')['ProductID'].count().sort_values(ascending=False).head(15)\n",
    "a1.plot.bar()\n",
    "print(a[['ProductBrand']].value_counts().head(15))"
   ]
  },
  {
   "cell_type": "code",
   "execution_count": 20,
   "id": "c941d0cf-a254-46ee-9492-506e6ce4fdb0",
   "metadata": {},
   "outputs": [
    {
     "data": {
      "text/plain": [
       "<Axes: ylabel='ProductID'>"
      ]
     },
     "execution_count": 20,
     "metadata": {},
     "output_type": "execute_result"
    },
    {
     "data": {
      "image/png": "[encoded data removed]",
      "text/plain": [
       "<Figure size 640x480 with 1 Axes>"
      ]
     },
     "metadata": {},
     "output_type": "display_data"
    }
   ],
   "source": [
    "a.groupby('Gender')['ProductID'].count().plot.pie(autopct=\"%1.1f%%\",startangle=90,shadow=True,explode=[0,0,0.1,0.1,0.1,0.1])\n"
   ]
  },
  {
   "cell_type": "code",
   "execution_count": 21,
   "id": "5103d797-e5a9-4d5e-88c5-a58c79db319e",
   "metadata": {},
   "outputs": [
    {
     "data": {
      "text/plain": [
       "<Axes: xlabel='PrimaryColor'>"
      ]
     },
     "execution_count": 21,
     "metadata": {},
     "output_type": "execute_result"
    },
    {
     "data": {
      "image/png": "[encoded data removed]",
      "text/plain": [
       "<Figure size 640x480 with 1 Axes>"
      ]
     },
     "metadata": {},
     "output_type": "display_data"
    }
   ],
   "source": [
    "a.groupby('PrimaryColor')['ProductID'].count().plot.bar()"
   ]
  },
  {
   "cell_type": "code",
   "execution_count": 22,
   "id": "d6489461-0b85-4c75-b6c9-87985dd48fce",
   "metadata": {},
   "outputs": [
    {
     "data": {
      "image/png": "[encoded data removed]",
      "text/plain": [
       "<Figure size 640x480 with 1 Axes>"
      ]
     },
     "metadata": {},
     "output_type": "display_data"
    }
   ],
   "source": [
    "top_Brand=(a.groupby(\"ProductBrand\")[\"Price (INR)\"].max().nlargest(10).index)\n",
    "filtere=a[a[\"ProductBrand\"].isin(top_Brand)]   \n",
    "sns.boxplot(x=\"ProductBrand\",y=\"Price (INR)\",data=filtere)\n",
    "plt.xticks(rotation=45,ha=\"right\")\n",
    "plt.show()"
   ]
  },
  {
   "cell_type": "code",
   "execution_count": null,
   "id": "37a13338-ffd6-45bf-84fe-64ebe7fcfec8",
   "metadata": {},
   "outputs": [],
   "source": []
  },
  {
   "cell_type": "code",
   "execution_count": null,
   "id": "e5d06856-775c-4018-92f7-9abfb5d28957",
   "metadata": {},
   "outputs": [],
   "source": []
  }
 ],
 "metadata": {
  "kernelspec": {
   "display_name": "Python [conda env:base] *",
   "language": "python",
   "name": "conda-base-py"
  },
  "language_info": {
   "codemirror_mode": {
    "name": "ipython",
    "version": 3
   },
   "file_extension": ".py",
   "mimetype": "text/x-python",
   "name": "python",
   "nbconvert_exporter": "python",
   "pygments_lexer": "ipython3",
   "version": "3.13.5"
  }
 },
 "nbformat": 4,
 "nbformat_minor": 5
}
